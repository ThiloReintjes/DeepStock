{
 "cells": [
  {
   "cell_type": "code",
   "execution_count": 1,
   "metadata": {},
   "outputs": [],
   "source": [
    "import os\n",
    "import torch\n",
    "from src import Dataset\n",
    "import statistics\n",
    "import random\n",
    "import seaborn as sns\n",
    "\n",
    "%load_ext autoreload\n",
    "%autoreload 2"
   ]
  },
  {
   "cell_type": "markdown",
   "metadata": {},
   "source": [
    "# Prepair Data"
   ]
  },
  {
   "cell_type": "code",
   "execution_count": 2,
   "metadata": {},
   "outputs": [
    {
     "name": "stdout",
     "output_type": "stream",
     "text": [
      "computing computed_Close_real_norm-True_threshold-0_AAPL.csv ...\n",
      "computing finished.\n",
      "all datasets loaded\n"
     ]
    }
   ],
   "source": [
    "path = os.path.dirname(os.getcwd()) + \"/Stock Datasets/Data/test\"\n",
    "\n",
    "datasets_list = []\n",
    "\n",
    "for filename in os.listdir(path):\n",
    "        if filename.endswith(\".csv\") and not \"computed_\" in filename:\n",
    "            datasets_list.append(\n",
    "                Dataset.StockDataset(\n",
    "                    csv_file=path + \"/\" + filename,\n",
    "                    days_of_data=14,\n",
    "                    to_predict='Close',\n",
    "                    label_type='real', \n",
    "                    threshold=0,\n",
    "                    normalize=True,\n",
    "                    training=False)\n",
    "            )\n",
    "\n",
    "print(\"all datasets loaded\")"
   ]
  },
  {
   "cell_type": "code",
   "execution_count": 3,
   "metadata": {},
   "outputs": [
    {
     "name": "stdout",
     "output_type": "stream",
     "text": [
      "9935\n"
     ]
    }
   ],
   "source": [
    "dataset = Dataset.ConcatDataset(*datasets_list)\n",
    "dataset_len = len(dataset)\n",
    "print(dataset_len)"
   ]
  },
  {
   "cell_type": "code",
   "execution_count": 4,
   "metadata": {},
   "outputs": [],
   "source": [
    "target_list = []\n",
    "for i in range(len(dataset)):\n",
    "    data, target, date= dataset.__getitem__(i)\n",
    "    if torch.isnan(data).any():\n",
    "        print(\"Data:\", data)\n",
    "        print(\"At:\", i)\n",
    "    if torch.isnan(target).any():\n",
    "        print(\"Target:\", target)\n",
    "        print(\"At:\", i)\n",
    "    target_list.append(target.item())"
   ]
  },
  {
   "cell_type": "code",
   "execution_count": 5,
   "metadata": {},
   "outputs": [
    {
     "name": "stdout",
     "output_type": "stream",
     "text": [
      "Target\n",
      "Min: -4.361501693725586 \tMax: 3.9834485054016113\n",
      "Avg: 0.10751627881621738 \t\tStd dev: 0.7544498552880288\n"
     ]
    },
    {
     "data": {
      "text/plain": [
       "<matplotlib.axes._subplots.AxesSubplot at 0x7f41e3e530d0>"
      ]
     },
     "execution_count": 5,
     "metadata": {},
     "output_type": "execute_result"
    },
    {
     "data": {
      "image/png": "[encoded data removed]",
      "text/plain": [
       "<Figure size 432x288 with 1 Axes>"
      ]
     },
     "metadata": {
      "needs_background": "light"
     },
     "output_type": "display_data"
    }
   ],
   "source": [
    "print(\"Target\")\n",
    "print(\"Min:\", min(target_list), \"\\tMax:\", max(target_list))\n",
    "print(\"Avg:\", sum(target_list) / len(target_list) ,\"\\t\\tStd dev:\", statistics.stdev(target_list))\n",
    "\n",
    "sns.distplot(target_list)"
   ]
  },
  {
   "cell_type": "code",
   "execution_count": 8,
   "metadata": {},
   "outputs": [
    {
     "name": "stdout",
     "output_type": "stream",
     "text": [
      "Index: 9115\n",
      "Data: torch.Size([14, 6]) \n",
      " tensor([[-0.6371, -0.5105, -1.0000, -0.7257, -0.5311,  0.8807],\n",
      "        [-0.6624, -0.5105, -0.8228, -0.7004, -0.2254,  0.8621],\n",
      "        [-0.3207,  0.6329, -0.4430,  0.4810,  1.0000,  0.8942],\n",
      "        [ 0.5696,  0.6878,  0.0464,  0.1308,  0.0331,  0.8181],\n",
      "        [ 0.0549,  0.4979, -0.0253,  0.4768, -0.4505,  0.8546],\n",
      "        [ 0.3038,  0.4726, -0.0211,  0.2911, -0.3896,  0.8004],\n",
      "        [ 0.1730,  0.5612,  0.0591,  0.3671, -0.7975,  0.7641],\n",
      "        [ 0.1266,  0.4852,  0.0717,  0.1477, -0.6780,  0.7041],\n",
      "        [ 0.0380,  0.0591, -0.6751,  0.0127, -0.3512,  0.6912],\n",
      "        [ 0.2532,  0.2996, -0.0042,  0.2067, -0.5922,  0.6943],\n",
      "        [ 0.0844,  0.3291,  0.0717,  0.2321, -0.7998,  0.6586],\n",
      "        [ 0.2743,  0.4219,  0.0802,  0.1435, -1.0000,  0.6224],\n",
      "        [ 0.3207,  0.8861,  0.1603,  0.7637, -0.0161,  0.7293],\n",
      "        [ 0.8734,  1.0000,  0.6793,  0.8608, -0.6283,  0.7324]])\n",
      "Target: tensor([0.5654])\n",
      "[9128    2017-03-16\n",
      "9129    2017-03-17\n",
      "Name: Date, dtype: object, 9128    140.690002\n",
      "9129    139.990005\n",
      "Name: Close, dtype: float64, (136.279999, 141.020004), '/media/thilo/D68C8E958C8E7033/Users/threi/OneDrive/Thilo Reintjes/Projekte/Stock Datasets/Data/test/AAPL.csv', tensor([139.9900])]\n",
      "tensor([139.9900])\n"
     ]
    }
   ],
   "source": [
    "index = random.randint(0, dataset_len)\n",
    "data, target, date = dataset.__getitem__(index)\n",
    "print(\"Index:\", index)\n",
    "print(\"Data:\", data.shape, \"\\n\", data)\n",
    "print(\"Target:\", target)\n",
    "print(date)"
   ]
  },
  {
   "cell_type": "code",
   "execution_count": 7,
   "metadata": {},
   "outputs": [
    {
     "name": "stdout",
     "output_type": "stream",
     "text": [
      "tensor([[ 1.0000,  1.0000,  0.7927],\n",
      "        [-0.0363,  1.0000, -1.0000],\n",
      "        [ 0.1710,  0.7927, -0.8860]])\n"
     ]
    }
   ],
   "source": [
    "def normalize_colmn(x):\n",
    "    x_normed = x / x.max(0, keepdim=True)[0]\n",
    "    return x_normed\n",
    "def normalize(x):\n",
    "    x_normed = (x - x.min()) / ( x.max() - x.min() )\n",
    "    x_normed = 2 * x_normed - 1\n",
    "    return x_normed\n",
    "\n",
    "t = torch.tensor([[10, 10, 9], [5, 10, 0.35], [6, 9, 0.9]])\n",
    "print(normalize(t))"
   ]
  },
  {
   "cell_type": "code",
   "execution_count": null,
   "metadata": {},
   "outputs": [],
   "source": []
  },
  {
   "cell_type": "code",
   "execution_count": null,
   "metadata": {},
   "outputs": [],
   "source": []
  }
 ],
 "metadata": {
  "kernelspec": {
   "display_name": "Python 3",
   "language": "python",
   "name": "python3"
  },
  "language_info": {
   "codemirror_mode": {
    "name": "ipython",
    "version": 3
   },
   "file_extension": ".py",
   "mimetype": "text/x-python",
   "name": "python",
   "nbconvert_exporter": "python",
   "pygments_lexer": "ipython3",
   "version": "3.7.6"
  }
 },
 "nbformat": 4,
 "nbformat_minor": 4
}