{
 "cells": [
  {
   "cell_type": "code",
   "execution_count": 1,
   "metadata": {},
   "outputs": [],
   "source": [
    "import os\n",
    "import torch\n",
    "from src import Dataset\n",
    "import statistics\n",
    "\n",
    "%load_ext autoreload\n",
    "%autoreload 2"
   ]
  },
  {
   "cell_type": "markdown",
   "metadata": {},
   "source": [
    "# Prepair Real Data"
   ]
  },
  {
   "cell_type": "code",
   "execution_count": 4,
   "metadata": {},
   "outputs": [
    {
     "name": "stdout",
     "output_type": "stream",
     "text": [
      "computing AAPL.csv_percent_norm:True_threshold:0 ...\n",
      "computing finished.\n",
      "computing percent_norm:True_AAPL.csv_percent_norm:True_threshold:0 ...\n",
      "computing finished.\n",
      "all datasets loaded\n"
     ]
    }
   ],
   "source": [
    "path = os.path.dirname(os.getcwd()) + \"/Stock Datasets/Data/training\"\n",
    "\n",
    "datasets_list = []\n",
    "\n",
    "for filename in os.listdir(path):\n",
    "        if filename.endswith(\".csv\") and not \"computed_\" in filename:\n",
    "            datasets_list.append(\n",
    "                Dataset.StockDataset(\n",
    "                    csv_file=path + \"/\" + filename,\n",
    "                    days_of_data=14, \n",
    "                    label_type='percent', \n",
    "                    threshold=0,\n",
    "                    training=False)\n",
    "            )\n",
    "\n",
    "print(\"all datasets loaded\")"
   ]
  },
  {
   "cell_type": "code",
   "execution_count": 5,
   "metadata": {},
   "outputs": [
    {
     "name": "stdout",
     "output_type": "stream",
     "text": [
      "19854\n"
     ]
    }
   ],
   "source": [
    "dataset = Dataset.ConcatDataset(*datasets_list)\n",
    "print(len(dataset))"
   ]
  },
  {
   "cell_type": "code",
   "execution_count": null,
   "metadata": {},
   "outputs": [],
   "source": [
    "target_list = []\n",
    "for i in range(len(dataset)):\n",
    "    data, target, date= dataset.__getitem__(i)\n",
    "    if torch.isnan(data).any():\n",
    "        print(\"Data:\", data)\n",
    "        print(\"At:\", i)\n",
    "    if torch.isnan(target).any():\n",
    "        print(\"Target:\", target)\n",
    "        print(\"At:\", i)\n",
    "    target_list.append(target.item())"
   ]
  },
  {
   "cell_type": "code",
   "execution_count": 1,
   "metadata": {},
   "outputs": [
    {
     "ename": "SyntaxError",
     "evalue": "invalid syntax (<ipython-input-1-71256e1f408e>, line 1)",
     "output_type": "error",
     "traceback": [
      "\u001B[0;36m  File \u001B[0;32m\"<ipython-input-1-71256e1f408e>\"\u001B[0;36m, line \u001B[0;32m1\u001B[0m\n\u001B[0;31m    //TEST\u001B[0m\n\u001B[0m     ^\u001B[0m\n\u001B[0;31mSyntaxError\u001B[0m\u001B[0;31m:\u001B[0m invalid syntax\n"
     ]
    }
   ],
   "source": [
    "\n"
   ]
  },
  {
   "cell_type": "code",
   "execution_count": null,
   "metadata": {},
   "outputs": [],
   "source": []
  }
 ],
 "metadata": {
  "kernelspec": {
   "display_name": "Python 3",
   "language": "python",
   "name": "python3"
  },
  "language_info": {
   "codemirror_mode": {
    "name": "ipython",
    "version": 3
   },
   "file_extension": ".py",
   "mimetype": "text/x-python",
   "name": "python",
   "nbconvert_exporter": "python",
   "pygments_lexer": "ipython3",
   "version": "3.7.6"
  }
 },
 "nbformat": 4,
 "nbformat_minor": 4
}