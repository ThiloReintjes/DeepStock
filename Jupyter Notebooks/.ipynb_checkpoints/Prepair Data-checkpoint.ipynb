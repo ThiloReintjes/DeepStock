{
 "cells": [
  {
   "cell_type": "code",
   "execution_count": 1,
   "metadata": {},
   "outputs": [],
   "source": [
    "import os\n",
    "path_parent = os.path.dirname(os.getcwd())\n",
    "os.chdir(path_parent)\n",
    "import torch\n",
    "from src import Dataset\n",
    "import statistics\n",
    "import random\n",
    "import seaborn as sns\n",
    "\n",
    "%load_ext autoreload\n",
    "%autoreload 2"
   ]
  },
  {
   "cell_type": "markdown",
   "metadata": {},
   "source": [
    "# Prepair Data"
   ]
  },
  {
   "cell_type": "code",
   "execution_count": 2,
   "metadata": {},
   "outputs": [
    {
     "name": "stdout",
     "output_type": "stream",
     "text": [
      "/media/thilo/D68C8E958C8E7033/Users/threi/OneDrive/Thilo Reintjes/Projekte/DeepStock\n"
     ]
    },
    {
     "ename": "TypeError",
     "evalue": "__init__() got an unexpected keyword argument 'csv_file'",
     "output_type": "error",
     "traceback": [
      "\u001b[0;31m---------------------------------------------------------------------------\u001b[0m",
      "\u001b[0;31mTypeError\u001b[0m                                 Traceback (most recent call last)",
      "\u001b[0;32m<ipython-input-2-58052a298a37>\u001b[0m in \u001b[0;36m<module>\u001b[0;34m\u001b[0m\n\u001b[1;32m     14\u001b[0m                     \u001b[0mthreshold\u001b[0m\u001b[0;34m=\u001b[0m\u001b[0;36m0\u001b[0m\u001b[0;34m,\u001b[0m\u001b[0;34m\u001b[0m\u001b[0;34m\u001b[0m\u001b[0m\n\u001b[1;32m     15\u001b[0m                     \u001b[0mnormalization\u001b[0m\u001b[0;34m=\u001b[0m\u001b[0;32mTrue\u001b[0m\u001b[0;34m,\u001b[0m\u001b[0;34m\u001b[0m\u001b[0;34m\u001b[0m\u001b[0m\n\u001b[0;32m---> 16\u001b[0;31m                     training=False)\n\u001b[0m\u001b[1;32m     17\u001b[0m             )\n\u001b[1;32m     18\u001b[0m \u001b[0;34m\u001b[0m\u001b[0m\n",
      "\u001b[0;31mTypeError\u001b[0m: __init__() got an unexpected keyword argument 'csv_file'"
     ]
    }
   ],
   "source": [
    "print(os.getcwd())\n",
    "path = os.getcwd() + \"/Data/test\"\n",
    "\n",
    "datasets_list = []\n",
    "\n",
    "for filename in os.listdir(path):\n",
    "        if filename.endswith(\".csv\") and not \"computed_\" in filename:\n",
    "            datasets_list.append(\n",
    "                Dataset.StockDataset(\n",
    "                    csv_path=path + \"/\" + filename,\n",
    "                    days_of_data=14,\n",
    "                    label='Close',\n",
    "                    label_type='real', \n",
    "                    threshold=0,\n",
    "                    normalization=True,\n",
    "                    training=False)\n",
    "            )\n",
    "\n",
    "print(\"all datasets loaded\")"
   ]
  },
  {
   "cell_type": "code",
   "execution_count": null,
   "metadata": {},
   "outputs": [],
   "source": [
    "dataset = Dataset.ConcatDataset(*datasets_list)\n",
    "dataset_len = len(dataset)\n",
    "print(dataset_len)"
   ]
  },
  {
   "cell_type": "code",
   "execution_count": null,
   "metadata": {},
   "outputs": [],
   "source": [
    "target_list = []\n",
    "for i in range(len(dataset)):\n",
    "    data, target, date= dataset.__getitem__(i)\n",
    "    if torch.isnan(data).any():\n",
    "        print(\"Data:\", data)\n",
    "        print(\"At:\", i)\n",
    "    if torch.isnan(target).any():\n",
    "        print(\"Target:\", target)\n",
    "        print(\"At:\", i)\n",
    "    target_list.append(target.item())"
   ]
  },
  {
   "cell_type": "code",
   "execution_count": null,
   "metadata": {},
   "outputs": [],
   "source": [
    "print(\"Target\")\n",
    "print(\"Min:\", min(target_list), \"\\tMax:\", max(target_list))\n",
    "print(\"Avg:\", sum(target_list) / len(target_list) ,\"\\t\\tStd dev:\", statistics.stdev(target_list))\n",
    "\n",
    "sns.distplot(target_list)"
   ]
  },
  {
   "cell_type": "code",
   "execution_count": null,
   "metadata": {},
   "outputs": [],
   "source": [
    "index = random.randint(0, dataset_len)\n",
    "data, target, date = dataset.__getitem__(index)\n",
    "print(\"Index:\", index)\n",
    "print(\"Data:\", data.shape, \"\\n\", data)\n",
    "print(\"Target:\", target)\n",
    "print(date)"
   ]
  },
  {
   "cell_type": "code",
   "execution_count": null,
   "metadata": {},
   "outputs": [],
   "source": [
    "def normalize_colmn(x):\n",
    "    x_normed = x / x.max(0, keepdim=True)[0]\n",
    "    return x_normed\n",
    "def normalize(x):\n",
    "    x_normed = (x - x.min()) / ( x.max() - x.min() )\n",
    "    x_normed = 2 * x_normed - 1\n",
    "    return x_normed\n",
    "\n",
    "t = torch.tensor([[10, 10, 9], [5, 10, 0.35], [6, 9, 0.9]])\n",
    "print(normalize(t))"
   ]
  },
  {
   "cell_type": "code",
   "execution_count": null,
   "metadata": {},
   "outputs": [],
   "source": []
  },
  {
   "cell_type": "code",
   "execution_count": null,
   "metadata": {},
   "outputs": [],
   "source": []
  }
 ],
 "metadata": {
  "kernelspec": {
   "display_name": "Python 3",
   "language": "python",
   "name": "python3"
  },
  "language_info": {
   "codemirror_mode": {
    "name": "ipython",
    "version": 3
   },
   "file_extension": ".py",
   "mimetype": "text/x-python",
   "name": "python",
   "nbconvert_exporter": "python",
   "pygments_lexer": "ipython3",
   "version": "3.7.6"
  }
 },
 "nbformat": 4,
 "nbformat_minor": 4
}
