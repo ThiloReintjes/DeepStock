{
 "cells": [
  {
   "cell_type": "markdown",
   "metadata": {},
   "source": [
    "# Training"
   ]
  },
  {
   "cell_type": "markdown",
   "metadata": {},
   "source": [
    "## Imports"
   ]
  },
  {
   "cell_type": "code",
   "execution_count": 1,
   "metadata": {},
   "outputs": [],
   "source": [
    "import os\n",
    "path_parent = os.path.dirname(os.getcwd())\n",
    "os.chdir(path_parent)\n",
    "\n",
    "import pytorch_lightning as pl\n",
    "import torch\n",
    "import torch.nn as nn\n",
    "import numpy as np\n",
    "import matplotlib.pyplot as plt\n",
    "import statistics\n",
    "import seaborn as sns\n",
    "\n",
    "from src.Network import RegressionNet\n",
    "from src import Dataset, DecisionMaker\n",
    "os.chdir(os.path.dirname(os.getcwd()))\n",
    "\n",
    "%load_ext autoreload\n",
    "%autoreload 2\n",
    "\n",
    "device = torch.device(\"cuda:0\" if torch.cuda.is_available() else \"cpu\")"
   ]
  },
  {
   "cell_type": "markdown",
   "metadata": {},
   "source": [
    "## Model"
   ]
  },
  {
   "cell_type": "code",
   "execution_count": 2,
   "metadata": {},
   "outputs": [],
   "source": [
    "\n",
    "# Hyperparameter\n",
    "hparams = {\n",
    "    \"days_of_data\": 64,\n",
    "    \"batch_size\": 512,\n",
    "    \"lr\": 0.01,\n",
    "    \"n_hidden\": 400,\n",
    "    \"layers\": 1,\n",
    "    \"optim\": \"Adam\",\n",
    "    \"weight_decay\": 0.0,\n",
    "    \"loss\": \"MSE\",\n",
    "    \"label\": \"Close\",\n",
    "    \"label_type\": \"real\",\n",
    "    \"threshold\": 0.0,\n",
    "    \"normalization\": \"min_max\",\n",
    "}"
   ]
  },
  {
   "cell_type": "code",
   "execution_count": 3,
   "metadata": {},
   "outputs": [
    {
     "name": "stdout",
     "output_type": "stream",
     "text": [
      "Cuda available: True\n",
      "Device: cuda:0\n",
      "loss is MSE\n"
     ]
    }
   ],
   "source": [
    "# Model initialization\n",
    "model = RegressionNet.RegressionNet(hparams=hparams)\n",
    "# wandb.watch(model)"
   ]
  },
  {
   "cell_type": "markdown",
   "metadata": {},
   "source": [
    "## Trainer"
   ]
  },
  {
   "cell_type": "code",
   "execution_count": 13,
   "metadata": {},
   "outputs": [
    {
     "name": "stdout",
     "output_type": "stream",
     "text": [
      "/media/thilo/D68C8E958C8E7033/Users/threi/OneDrive/Thilo Reintjes/Projekte\n"
     ]
    }
   ],
   "source": [
    "# more Hyperparameter\n",
    "gpus=1\n",
    "max_epochs=125\n",
    "# min_epochs =\n",
    "fast_dev_run = True\n",
    "overfit_pct = 0.25\n",
    "print(os.getcwd())"
   ]
  },
  {
   "cell_type": "code",
   "execution_count": 5,
   "metadata": {},
   "outputs": [
    {
     "name": "stderr",
     "output_type": "stream",
     "text": [
      "GPU available: True, used: True\n",
      "No environment variable for node rank defined. Set as 0.\n",
      "CUDA_VISIBLE_DEVICES: [0]\n"
     ]
    }
   ],
   "source": [
    "# os.chdir(os.path.dirname(os.getcwd()))\n",
    "# Trainer initialization\n",
    "trainer = pl.Trainer(\n",
    "    gpus=gpus,\n",
    "    max_epochs=max_epochs,\n",
    "    default_save_path=os.getcwd() + \"/DeepStock\",\n",
    "#     fast_dev_run = fast_dev_run,\n",
    "#     min_epochs=min_epochs,\n",
    "#     auto_scale_batch_size='binsearch',\n",
    "#     auto_lr_find=auto_lr_find,\n",
    "#     checkpoint_callback=checkpoint_callback,\n",
    "#     overfit_pct=overfit_pct,\n",
    "\n",
    ")"
   ]
  },
  {
   "cell_type": "code",
   "execution_count": 6,
   "metadata": {
    "scrolled": true
   },
   "outputs": [
    {
     "name": "stdout",
     "output_type": "stream",
     "text": [
      "loading computed_Close_real_0.0_min_max_FB.csv\n",
      "loading computed_Close_real_0.0_min_max_ADBE.csv\n",
      "loading computed_Close_real_0.0_min_max_AMD.csv\n",
      "loading computed_Close_real_0.0_min_max_GOOG.csv\n",
      "loading computed_Close_real_0.0_min_max_INTC.csv\n",
      "loading computed_Close_real_0.0_min_max_MSFT.csv\n",
      "loading computed_Close_real_0.0_min_max_NFLX.csv\n",
      "loading computed_Close_real_0.0_min_max_NVDA.csv\n",
      "loading computed_Close_real_0.0_min_max_PYPL.csv\n",
      "loading computed_Close_real_0.0_min_max_SHOP.csv\n",
      "loading computed_Close_real_0.0_min_max_TSLA.csv\n",
      "loading computed_Close_real_0.0_min_max_AAPL.csv\n",
      "Dataset length: 56694\n",
      "train_size: 45356\n",
      "val_size: 11338\n",
      "test_size: 9885\n"
     ]
    },
    {
     "name": "stderr",
     "output_type": "stream",
     "text": [
      "\n",
      "  | Name   | Type        | Params\n",
      "-----------------------------------\n",
      "0 | lstm   | Sequential  | 652 K \n",
      "1 | lstm.0 | LSTM        | 652 K \n",
      "2 | fc1    | Sequential  | 161 K \n",
      "3 | fc1.0  | Linear      | 160 K \n",
      "4 | fc1.1  | BatchNorm1d | 800   \n",
      "5 | fc1.2  | PReLU       | 1     \n",
      "6 | fc1.3  | Linear      | 401   \n"
     ]
    },
    {
     "name": "stdout",
     "output_type": "stream",
     "text": [
      "optim is Adam\n"
     ]
    },
    {
     "data": {
      "application/vnd.jupyter.widget-view+json": {
       "model_id": "",
       "version_major": 2,
       "version_minor": 0
      },
      "text/plain": [
       "HBox(children=(FloatProgress(value=1.0, bar_style='info', description='Validation sanity check', layout=Layout…"
      ]
     },
     "metadata": {},
     "output_type": "display_data"
    },
    {
     "name": "stdout",
     "output_type": "stream",
     "text": [
      "\r"
     ]
    },
    {
     "data": {
      "application/vnd.jupyter.widget-view+json": {
       "model_id": "6faafbbcd7a845c18505380f3df43412",
       "version_major": 2,
       "version_minor": 0
      },
      "text/plain": [
       "HBox(children=(FloatProgress(value=1.0, bar_style='info', description='Training', layout=Layout(flex='2'), max…"
      ]
     },
     "metadata": {},
     "output_type": "display_data"
    },
    {
     "data": {
      "application/vnd.jupyter.widget-view+json": {
       "model_id": "",
       "version_major": 2,
       "version_minor": 0
      },
      "text/plain": [
       "HBox(children=(FloatProgress(value=1.0, bar_style='info', description='Validating', layout=Layout(flex='2'), m…"
      ]
     },
     "metadata": {},
     "output_type": "display_data"
    },
    {
     "data": {
      "application/vnd.jupyter.widget-view+json": {
       "model_id": "",
       "version_major": 2,
       "version_minor": 0
      },
      "text/plain": [
       "HBox(children=(FloatProgress(value=1.0, bar_style='info', description='Validating', layout=Layout(flex='2'), m…"
      ]
     },
     "metadata": {},
     "output_type": "display_data"
    },
    {
     "data": {
      "application/vnd.jupyter.widget-view+json": {
       "model_id": "",
       "version_major": 2,
       "version_minor": 0
      },
      "text/plain": [
       "HBox(children=(FloatProgress(value=1.0, bar_style='info', description='Validating', layout=Layout(flex='2'), m…"
      ]
     },
     "metadata": {},
     "output_type": "display_data"
    },
    {
     "data": {
      "application/vnd.jupyter.widget-view+json": {
       "model_id": "de9c6d80db69414aa450f346cebba6a7",
       "version_major": 2,
       "version_minor": 0
      },
      "text/plain": [
       "HBox(children=(FloatProgress(value=1.0, bar_style='info', description='Validating', layout=Layout(flex='2'), m…"
      ]
     },
     "metadata": {},
     "output_type": "display_data"
    },
    {
     "name": "stderr",
     "output_type": "stream",
     "text": [
      "Detected KeyboardInterrupt, attempting graceful shutdown...\n"
     ]
    },
    {
     "name": "stdout",
     "output_type": "stream",
     "text": [
      "\n"
     ]
    },
    {
     "data": {
      "text/plain": [
       "1"
      ]
     },
     "execution_count": 6,
     "metadata": {},
     "output_type": "execute_result"
    }
   ],
   "source": [
    "# train model\n",
    "trainer.fit(model)"
   ]
  },
  {
   "cell_type": "code",
   "execution_count": 7,
   "metadata": {},
   "outputs": [
    {
     "data": {
      "application/vnd.jupyter.widget-view+json": {
       "model_id": "684bf10a35f1482ab3a0ecfe887497fd",
       "version_major": 2,
       "version_minor": 0
      },
      "text/plain": [
       "HBox(children=(FloatProgress(value=1.0, bar_style='info', description='Testing', layout=Layout(flex='2'), max=…"
      ]
     },
     "metadata": {},
     "output_type": "display_data"
    },
    {
     "name": "stdout",
     "output_type": "stream",
     "text": [
      "--------------------------------------------------------------------------------\n",
      "TEST RESULTS\n",
      "{'test_loss': tensor(0.7990, device='cuda:0')}\n",
      "--------------------------------------------------------------------------------\n",
      "\n"
     ]
    }
   ],
   "source": [
    "path = os.getcwd() + \"/Code/Saved Models/model.pth\"\n",
    "\n",
    "# torch.save(model, path)\n",
    "\n",
    "# model = torch.load(path)\n",
    "model.eval()\n",
    "trainer.test()"
   ]
  },
  {
   "cell_type": "markdown",
   "metadata": {},
   "source": [
    "## Evaluate"
   ]
  },
  {
   "cell_type": "code",
   "execution_count": 8,
   "metadata": {},
   "outputs": [
    {
     "name": "stdout",
     "output_type": "stream",
     "text": [
      "LSTM(6, 400)\n",
      "weight_ih_l0\n"
     ]
    },
    {
     "data": {
      "image/png": "[encoded data removed]",
      "text/plain": [
       "<Figure size 432x288 with 1 Axes>"
      ]
     },
     "metadata": {
      "needs_background": "light"
     },
     "output_type": "display_data"
    },
    {
     "name": "stdout",
     "output_type": "stream",
     "text": [
      "weight_hh_l0\n"
     ]
    },
    {
     "data": {
      "image/png": "[encoded data removed]",
      "text/plain": [
       "<Figure size 432x288 with 1 Axes>"
      ]
     },
     "metadata": {
      "needs_background": "light"
     },
     "output_type": "display_data"
    },
    {
     "name": "stdout",
     "output_type": "stream",
     "text": [
      "bias_ih_l0\n"
     ]
    },
    {
     "data": {
      "image/png": "[encoded data removed]",
      "text/plain": [
       "<Figure size 432x288 with 1 Axes>"
      ]
     },
     "metadata": {
      "needs_background": "light"
     },
     "output_type": "display_data"
    },
    {
     "name": "stdout",
     "output_type": "stream",
     "text": [
      "bias_hh_l0\n"
     ]
    },
    {
     "data": {
      "image/png": "[encoded data removed]",
      "text/plain": [
       "<Figure size 432x288 with 1 Axes>"
      ]
     },
     "metadata": {
      "needs_background": "light"
     },
     "output_type": "display_data"
    },
    {
     "name": "stdout",
     "output_type": "stream",
     "text": [
      "Linear(in_features=400, out_features=400, bias=True)\n"
     ]
    },
    {
     "data": {
      "image/png": "[encoded data removed]",
      "text/plain": [
       "<Figure size 432x288 with 1 Axes>"
      ]
     },
     "metadata": {
      "needs_background": "light"
     },
     "output_type": "display_data"
    },
    {
     "name": "stdout",
     "output_type": "stream",
     "text": [
      "Linear(in_features=400, out_features=1, bias=True)\n"
     ]
    },
    {
     "data": {
      "image/png": "[encoded data removed]",
      "text/plain": [
       "<Figure size 432x288 with 1 Axes>"
      ]
     },
     "metadata": {
      "needs_background": "light"
     },
     "output_type": "display_data"
    }
   ],
   "source": [
    "for m in model.modules():\n",
    "    if isinstance(m, nn.Linear):\n",
    "        print(m)\n",
    "        sns.distplot(m.weight.data.cpu())\n",
    "        plt.show()\n",
    "    if isinstance(m, nn.Conv2d):\n",
    "        print(m)\n",
    "        sns.distplot(m.weight.data.cpu())\n",
    "        plt.show()\n",
    "    if isinstance(m, nn.LSTM):\n",
    "        print(m)\n",
    "        for name, param in m.named_parameters():\n",
    "            if 'bias' in name:\n",
    "                print(name)\n",
    "                sns.distplot(param.data.cpu())\n",
    "                plt.show()\n",
    "            if 'weight' in name:\n",
    "                print(name)\n",
    "                sns.distplot(param.data.cpu())\n",
    "                plt.show()"
   ]
  },
  {
   "cell_type": "code",
   "execution_count": 9,
   "metadata": {},
   "outputs": [
    {
     "name": "stdout",
     "output_type": "stream",
     "text": [
      "/media/thilo/D68C8E958C8E7033/Users/threi/OneDrive/Thilo Reintjes/Projekte\n",
      "computing computed_Close_real_0.0_min_max_AAPL.csv ...\n",
      "computing finished.\n"
     ]
    }
   ],
   "source": [
    "root = os.getcwd()\n",
    "print(os.getcwd())\n",
    "\n",
    "dataset = Dataset.StockDataset(\n",
    "    csv_path=root + \"/DeepStock/Data/test/AAPL.csv\", \n",
    "    days_of_data=model.hparams[\"days_of_data\"], \n",
    "    label=model.hparams[\"label\"],\n",
    "    label_type=model.hparams[\"label_type\"],\n",
    "    threshold=model.hparams[\"threshold\"],\n",
    "    normalization=model.hparams[\"normalization\"],\n",
    "    training=False,\n",
    ")\n",
    "# print(dataset.__getitem__(0))"
   ]
  },
  {
   "cell_type": "code",
   "execution_count": 10,
   "metadata": {},
   "outputs": [
    {
     "name": "stdout",
     "output_type": "stream",
     "text": [
      "9885\n"
     ]
    }
   ],
   "source": [
    "y_hat_list = []\n",
    "y_list = []\n",
    "y_hat_norm_list = []\n",
    "y_norm_list = []\n",
    "acc_list = []\n",
    "n = dataset.__len__()\n",
    "print(n)\n",
    "for i in range(n):\n",
    "    with torch.no_grad():\n",
    "        data, label, date = dataset.__getitem__(dataset.__len__() - n + i)\n",
    "        \n",
    "#         data = torch.reshape(data, (1, -1))\n",
    "        data = data.unsqueeze(0)\n",
    "        label =  label.to(device)\n",
    "        data = data.to(device)\n",
    "        label = label.to(device)\n",
    "        \n",
    "        model.eval()\n",
    "        model.to(device)\n",
    "#         print(model.forward(data))\n",
    "        y_hat = model.forward(data).item()\n",
    "        y_hat_list.append(y_hat)\n",
    "#         y_hat = ((y_hat + 1) / 2) * (date[2][1].item() - date[2][0].item()) + date[2][0].item()\n",
    "#         y_hat_norm_list.append(y_hat)\n",
    "        y = label.item()\n",
    "        y_list.append(y)\n",
    "#         y = date[4].item()\n",
    "#         y_norm_list.append(y)\n",
    "        acc = y - y_hat\n",
    "        acc_list.append(acc)"
   ]
  },
  {
   "cell_type": "code",
   "execution_count": 11,
   "metadata": {},
   "outputs": [
    {
     "data": {
      "image/png": "[encoded data removed]",
      "text/plain": [
       "<Figure size 432x288 with 1 Axes>"
      ]
     },
     "metadata": {
      "needs_background": "light"
     },
     "output_type": "display_data"
    },
    {
     "name": "stdout",
     "output_type": "stream",
     "text": [
      "Min y: -2.8616342544555664 Min y_hat: -0.20809397101402283\n",
      "Max y: 2.741373062133789 Max y_hat: 1.79466712474823\n",
      "Avg y: 0.16108719904614507 Avg y_hat: 1.0296228507457355\n",
      "Min acc: -3.8360860347747803\n",
      "Max acc: 1.105315923690796\n",
      "Avg acc: -0.8685356516995903\n",
      "Std dev y: 0.6587274877484046 Std dev acc: 0.21996515075067408\n",
      "------------------------\n"
     ]
    }
   ],
   "source": [
    "sns.distplot(y_hat_list)\n",
    "sns.distplot(y_list)\n",
    "plt.show()\n",
    "\n",
    "\n",
    "print(\"Min y:\", min(y_list), \"Min y_hat:\", min(y_hat_list))\n",
    "print(\"Max y:\", max(y_list), \"Max y_hat:\", max(y_hat_list))\n",
    "print(\"Avg y:\", sum(y_list) / len(y_list), \"Avg y_hat:\", sum(y_hat_list) / len(y_hat_list))\n",
    "print(\"Min acc:\", min(acc_list))\n",
    "print(\"Max acc:\", max(acc_list))\n",
    "print(\"Avg acc:\", sum(acc_list) / len(acc_list))\n",
    "print(\"Std dev y:\", statistics.stdev(y_list), \"Std dev acc:\", statistics.stdev(acc_list))\n",
    "print(\"------------------------\")\n",
    "# print(\"Min y:\", min(y_norm_list), \"Min y_hat:\", min(y_hat_norm_list))\n",
    "# print(\"Max y:\", max(y_norm_list), \"Max y_hat:\", max(y_hat_norm_list))\n",
    "# print(\"Avg y:\", sum(y_norm_list) / len(y_norm_list), \"Avg y_hat:\", sum(y_hat_norm_list) / len(y_hat_norm_list))\n"
   ]
  },
  {
   "cell_type": "code",
   "execution_count": 12,
   "metadata": {},
   "outputs": [
    {
     "ename": "ValueError",
     "evalue": "too many values to unpack (expected 2)",
     "output_type": "error",
     "traceback": [
      "\u001b[0;31m---------------------------------------------------------------------------\u001b[0m",
      "\u001b[0;31mValueError\u001b[0m                                Traceback (most recent call last)",
      "\u001b[0;32m<ipython-input-12-72176f75aa9b>\u001b[0m in \u001b[0;36m<module>\u001b[0;34m\u001b[0m\n\u001b[1;32m      2\u001b[0m     \u001b[0mn\u001b[0m \u001b[0;34m=\u001b[0m \u001b[0;36m100\u001b[0m\u001b[0;34m\u001b[0m\u001b[0;34m\u001b[0m\u001b[0m\n\u001b[1;32m      3\u001b[0m     \u001b[0mtrader\u001b[0m \u001b[0;34m=\u001b[0m \u001b[0mDecisionMaker\u001b[0m\u001b[0;34m\u001b[0m\u001b[0;34m\u001b[0m\u001b[0m\n\u001b[0;32m----> 4\u001b[0;31m     \u001b[0mpred_norm\u001b[0m\u001b[0;34m,\u001b[0m \u001b[0mpred\u001b[0m \u001b[0;34m=\u001b[0m \u001b[0mtrader\u001b[0m\u001b[0;34m.\u001b[0m\u001b[0mlast_n_days\u001b[0m\u001b[0;34m(\u001b[0m\u001b[0mmodel\u001b[0m\u001b[0;34m,\u001b[0m \u001b[0mdataset\u001b[0m\u001b[0;34m,\u001b[0m \u001b[0mn\u001b[0m\u001b[0;34m,\u001b[0m \u001b[0mmodel\u001b[0m\u001b[0;34m.\u001b[0m\u001b[0mhparams\u001b[0m\u001b[0;34m[\u001b[0m\u001b[0;34m\"label_type\"\u001b[0m\u001b[0;34m]\u001b[0m\u001b[0;34m)\u001b[0m\u001b[0;34m\u001b[0m\u001b[0;34m\u001b[0m\u001b[0m\n\u001b[0m\u001b[1;32m      5\u001b[0m \u001b[0;34m\u001b[0m\u001b[0m\n\u001b[1;32m      6\u001b[0m     \u001b[0mlabel_norm\u001b[0m \u001b[0;34m=\u001b[0m \u001b[0;34m[\u001b[0m\u001b[0md\u001b[0m\u001b[0;34m[\u001b[0m\u001b[0;34m'label'\u001b[0m\u001b[0;34m]\u001b[0m \u001b[0;32mfor\u001b[0m \u001b[0md\u001b[0m \u001b[0;32min\u001b[0m \u001b[0mpred_norm\u001b[0m\u001b[0;34m]\u001b[0m\u001b[0;34m\u001b[0m\u001b[0;34m\u001b[0m\u001b[0m\n",
      "\u001b[0;31mValueError\u001b[0m: too many values to unpack (expected 2)"
     ]
    }
   ],
   "source": [
    "if model.hparams[\"label_type\"]  is \"real\":\n",
    "    n = 100\n",
    "    trader = DecisionMaker\n",
    "    pred_norm, pred = trader.last_n_days(model, dataset, n, model.hparams[\"label_type\"])\n",
    "    \n",
    "    label_norm = [d['label'] for d in pred_norm]\n",
    "    y_hat_norm = [d['predicted'] for d in pred_norm]\n",
    "    \n",
    "    label = [d['label'] for d in pred]\n",
    "    y_hat = [d['predicted'] for d in pred]\n",
    "#     print(min(label_norm))\n",
    "    \n",
    "    #plt\n",
    "    y = list(range(n))\n",
    "    plt.plot(y, label, y, y_hat)\n",
    "    plt.show()\n",
    "    plt.plot(y, label_norm, y, y_hat_norm)\n",
    "    plt.show()\n"
   ]
  },
  {
   "cell_type": "code",
   "execution_count": null,
   "metadata": {},
   "outputs": [],
   "source": [
    "n = 75\n",
    "trader = DecisionMaker\n",
    "pred, long, short = trader.last_n_days(model, dataset, n, model.hparams[\"label_type\"], threshold=0.01)\n",
    "label = [d['label'] for d in pred]\n",
    "y_hat = [d['predicted'] for d in pred]\n",
    "long_gain = [x[\"diff\"] for x in long]\n",
    "short_gain =[x[\"diff\"] for x in short]\n",
    "\n",
    "print(len(long),\"long trades, \", len(short), \"short trades\", len(long) + len(short), \"total trades /\",n , \"\\n\")\n",
    "\n",
    "print(\"Sum:\")\n",
    "print(\"Long:\", sum(long_gain), \"Short:\", sum(short_gain), \"\\n\")\n",
    "\n",
    "print(\"Avg Profit:\")\n",
    "if len(long) > 0:\n",
    "    print(\"Long:\", sum(long_gain) / len(long), end=' ')\n",
    "if len(short) > 0:\n",
    "    print(\"Short:\", sum(short_gain) / len(short))\n",
    "print(\"\\n\")\n",
    "\n",
    "if len(long) > 0:\n",
    "    long_idx = np.argmax(long_gain)\n",
    "    print(\"Best long day:\\n\", long[long_idx])\n",
    "    long_idx = np.argmin(long_gain)\n",
    "    print(\"Worst long day:\\n\", long[long_idx], \"\\n\")\n",
    "if len(short) > 0:\n",
    "    short_idx = np.argmin(short_gain)\n",
    "    print(\"Best short day:\\n\", short[short_idx])\n",
    "    short_idx = np.argmax(short_gain)\n",
    "    print(\"Worst short day:\\n\", short[short_idx])\n",
    "\n",
    "# plt\n",
    "# print(pred[\"predicted\"])\n",
    "y = list(range(n))\n",
    "plt.plot(y, label, y, y_hat)\n",
    "plt.show()"
   ]
  },
  {
   "cell_type": "code",
   "execution_count": null,
   "metadata": {},
   "outputs": [],
   "source": [
    "test = [1,2,3,4,5,6]\n",
    "\n",
    "a = torch.as_tensor([test, test])\n",
    "print(a.shape)"
   ]
  },
  {
   "cell_type": "code",
   "execution_count": null,
   "metadata": {},
   "outputs": [],
   "source": []
  },
  {
   "cell_type": "code",
   "execution_count": null,
   "metadata": {},
   "outputs": [],
   "source": []
  }
 ],
 "metadata": {
  "kernelspec": {
   "display_name": "Python 3",
   "language": "python",
   "name": "python3"
  },
  "language_info": {
   "codemirror_mode": {
    "name": "ipython",
    "version": 3
   },
   "file_extension": ".py",
   "mimetype": "text/x-python",
   "name": "python",
   "nbconvert_exporter": "python",
   "pygments_lexer": "ipython3",
   "version": "3.7.6"
  }
 },
 "nbformat": 4,
 "nbformat_minor": 4
}
